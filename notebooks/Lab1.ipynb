{
 "cells": [
  {
   "cell_type": "markdown",
   "metadata": {},
   "source": [
    "Вихідні дані\n",
    "\n",
    "Тестовий пакет – MIRFlickr-20k (https://press.liacs.nl/mirflickr/#sec_download)\n",
    "Вибірка зображень – 250 зображень;\n",
    "Формування вибірки зображень – псевдовипадкове, з використанням генератора Мерсена (стартове значення співпадає з номером студента в загальному списку групи) за модулем кількості зображень в тестовому пакеті.\n",
    "\n",
    "Лабораторна робота №1\n",
    "1)\tСформувати тестову вибірку зображень з вихідного пакету;\n"
   ]
  },
  {
   "cell_type": "code",
   "execution_count": 1,
   "metadata": {},
   "outputs": [],
   "source": [
    "import numpy as np\n",
    "import pandas as pd\n",
    "\n",
    "import os\n",
    "import cv2\n",
    "import seaborn as sns\n",
    "from scipy import stats\n",
    "from sklearn.metrics import mean_squared_error\n",
    "import matplotlib.pyplot as plt\n",
    "\n",
    "\n",
    "os.chdir('C:\\\\DS\\\\datasets\\\\mirflickr')# all datasets will be stored outside of a project\n",
    "total_students = 10\n",
    "student_num = 3%total_students"
   ]
  },
  {
   "cell_type": "markdown",
   "metadata": {},
   "source": [
    "To select a sample we'll use numpy.random module, an implementation of Mersenne Twister pseudorandom generator based on [MT19937 algorithm](https://en.wikipedia.org/wiki/Mersenne_Twister). It's worth mentioning that python's random module is identical"
   ]
  },
  {
   "cell_type": "code",
   "execution_count": 2,
   "metadata": {},
   "outputs": [
    {
     "name": "stdout",
     "output_type": "stream",
     "text": [
      "selected sample 250 of images from 25000 images in total\n"
     ]
    }
   ],
   "source": [
    "contents = os.listdir()\n",
    "images_names = np.array([c for c in contents if c.endswith('.jpg')])\n",
    "\n",
    "# np.seed(student_num)\n",
    "generator = np.random.RandomState(seed=student_num)# works the same as np.seed()\n",
    "\n",
    "total_images = images_names.shape[0]\n",
    "sample_size = 250\n",
    "\n",
    "sample_images_names = generator.choice(images_names,sample_size) \n",
    "\n",
    "print(f'selected sample {sample_size} of images from {total_images} images in total')"
   ]
  },
  {
   "cell_type": "markdown",
   "metadata": {},
   "source": [
    "To read the images we'll use opencv, which by default reads image in B,G,R order. \n",
    "* cv.imread(file) reads image as an ndarray of shape (height,width,3)\n",
    "* cv.split() split ndarray into three 2D arrays (B,G,R) of shape (height,width), from which we select array G"
   ]
  },
  {
   "cell_type": "code",
   "execution_count": 3,
   "metadata": {},
   "outputs": [],
   "source": [
    "#sample_images = np.array([cv2.imread(img) for img in sample_images_names])\n",
    "sample_images_green = np.array([cv2.split(cv2.imread(img))[1] for img in sample_images_names])"
   ]
  },
  {
   "cell_type": "code",
   "execution_count": 4,
   "metadata": {},
   "outputs": [],
   "source": [
    "green_pixels_list = np.concatenate([img.flatten() for img in sample_images_green])\n",
    "green_pixels_value_counts = np.bincount(green_pixels_list)\n",
    "brightness_distribution = pd.Series(data = green_pixels_value_counts, index=np.arange(256),name='name')"
   ]
  },
  {
   "cell_type": "markdown",
   "metadata": {},
   "source": [
    "2)\tДля зеленого каналу кольору тестових зображень обчислити наступні характеристики розподілу значень яскравості пікселів:<br>\n",
    "* \tМатематичне очікування та дисперсію:"
   ]
  },
  {
   "cell_type": "code",
   "execution_count": 5,
   "metadata": {},
   "outputs": [],
   "source": [
    "from statsmodels.stats.weightstats import DescrStatsW\n",
    "weightstats = DescrStatsW(brightness_distribution.keys(),weights=brightness_distribution.values)"
   ]
  },
  {
   "cell_type": "code",
   "execution_count": 6,
   "metadata": {},
   "outputs": [],
   "source": [
    "avg = np.average(brightness_distribution.keys(),weights=brightness_distribution.values)\n",
    "assert avg==green_pixels_list.mean()\n",
    "np.testing.assert_almost_equal(np.average((brightness_distribution.keys()-avg)**2,weights=brightness_distribution.values),np.var(green_pixels_list))"
   ]
  },
  {
   "cell_type": "code",
   "execution_count": 7,
   "metadata": {},
   "outputs": [
    {
     "name": "stdout",
     "output_type": "stream",
     "text": [
      "green channel has a mean of 100.9230 and a variance of 5702.3071\n"
     ]
    }
   ],
   "source": [
    "mean, variance = weightstats.mean, weightstats.var\n",
    "print(f'green channel has a mean of {mean:.4f} and a variance of {variance:.4f}')"
   ]
  },
  {
   "cell_type": "markdown",
   "metadata": {},
   "source": [
    "* \tМедіану та інтерквартильний розмах;"
   ]
  },
  {
   "cell_type": "code",
   "execution_count": 8,
   "metadata": {},
   "outputs": [
    {
     "name": "stdout",
     "output_type": "stream",
     "text": [
      "green channel has a median of 90.0 and an IQR of 127.0\n"
     ]
    }
   ],
   "source": [
    "median,iqr = np.median(green_pixels_list), np.subtract(*np.percentile(green_pixels_list,[75,25]))\n",
    "print(f'green channel has a median of {median} and an IQR of {iqr}')"
   ]
  },
  {
   "cell_type": "markdown",
   "metadata": {},
   "source": [
    "* \tКоефіцієнти асиметрії та ексцесу (нормалізований);"
   ]
  },
  {
   "cell_type": "code",
   "execution_count": 9,
   "metadata": {},
   "outputs": [
    {
     "name": "stdout",
     "output_type": "stream",
     "text": [
      "green channel has a skew of 0.3841 and kurtosis coeff of -0.9989\n"
     ]
    }
   ],
   "source": [
    "skewness,kurtosis = stats.skew(green_pixels_list),stats.kurtosis(green_pixels_list)\n",
    "print(f'green channel has a skew of {skewness:.4f} and kurtosis coeff of {kurtosis:.4f}')"
   ]
  },
  {
   "cell_type": "markdown",
   "metadata": {},
   "source": [
    "* \tГістограму значень яскравості пікселів (нормалізовану);"
   ]
  },
  {
   "cell_type": "markdown",
   "metadata": {},
   "source": [
    "3)\tПровести обробку отриманих гістограм: \n",
    "*\tПровести апроксимацію гістограм з використанням імовірнісних розподілів:\n",
    " *      i)\tНормального (гаусового) розподілу;\n",
    " *      ii)\tРозподілу Лапласа;\n",
    " *      iii)\tРозподілу Стьюдента;\n",
    " *      iv)\tБета розподілу;\n"
   ]
  },
  {
   "cell_type": "code",
   "execution_count": 10,
   "metadata": {},
   "outputs": [
    {
     "data": {
      "text/plain": [
       "<matplotlib.axes._subplots.AxesSubplot at 0x1967682ddd8>"
      ]
     },
     "execution_count": 10,
     "metadata": {},
     "output_type": "execute_result"
    },
    {
     "data": {
      "image/png": "[encoded data removed]",
      "text/plain": [
       "<Figure size 432x288 with 1 Axes>"
      ]
     },
     "metadata": {
      "needs_background": "light"
     },
     "output_type": "display_data"
    }
   ],
   "source": [
    "sns.distplot(brightness_distribution.keys(), bins=32, hist_kws={'weights':brightness_distribution.values},norm_hist=True,fit=stats.norm) "
   ]
  },
  {
   "cell_type": "markdown",
   "metadata": {},
   "source": [
    "Should it be like that?"
   ]
  },
  {
   "cell_type": "code",
   "execution_count": 11,
   "metadata": {},
   "outputs": [
    {
     "data": {
      "text/plain": [
       "<matplotlib.axes._subplots.AxesSubplot at 0x196000a5898>"
      ]
     },
     "execution_count": 11,
     "metadata": {},
     "output_type": "execute_result"
    },
    {
     "data": {
      "image/png": "[encoded data removed]",
      "text/plain": [
       "<Figure size 432x288 with 1 Axes>"
      ]
     },
     "metadata": {
      "needs_background": "light"
     },
     "output_type": "display_data"
    }
   ],
   "source": [
    "sns.distplot(brightness_distribution.keys(), bins=32, hist_kws={'weights':brightness_distribution.values},norm_hist=True,fit=stats.t) "
   ]
  },
  {
   "cell_type": "code",
   "execution_count": 12,
   "metadata": {},
   "outputs": [
    {
     "data": {
      "text/plain": [
       "<matplotlib.axes._subplots.AxesSubplot at 0x196048f6eb8>"
      ]
     },
     "execution_count": 12,
     "metadata": {},
     "output_type": "execute_result"
    },
    {
     "data": {
      "image/png": "[encoded data removed]",
      "text/plain": [
       "<Figure size 432x288 with 1 Axes>"
      ]
     },
     "metadata": {
      "needs_background": "light"
     },
     "output_type": "display_data"
    }
   ],
   "source": [
    "sns.distplot(brightness_distribution.keys(), bins=32, hist_kws={'weights':brightness_distribution.values},fit=stats.laplace) "
   ]
  },
  {
   "cell_type": "code",
   "execution_count": 13,
   "metadata": {},
   "outputs": [
    {
     "data": {
      "text/plain": [
       "<matplotlib.axes._subplots.AxesSubplot at 0x196049a6828>"
      ]
     },
     "execution_count": 13,
     "metadata": {},
     "output_type": "execute_result"
    },
    {
     "data": {
      "image/png": "[encoded data removed]",
      "text/plain": [
       "<Figure size 432x288 with 1 Axes>"
      ]
     },
     "metadata": {
      "needs_background": "light"
     },
     "output_type": "display_data"
    }
   ],
   "source": [
    "sns.distplot(brightness_distribution.keys(), bins=32, hist_kws={'weights':brightness_distribution.values},fit=stats.beta) "
   ]
  },
  {
   "cell_type": "markdown",
   "metadata": {},
   "source": [
    "* \tДля кожної гістограми визначити найкращий тип апроксимуючого розподілу за критерієм мінімізації середньо квадратичного відхилення;"
   ]
  },
  {
   "cell_type": "code",
   "execution_count": 14,
   "metadata": {},
   "outputs": [],
   "source": [
    "def calculate_mse(distribution='norm'):\n",
    "    space = np.linspace(0,255,num=256)\n",
    "    if distribution=='norm':\n",
    "        pdf = stats.norm.pdf(space,*stats.norm.fit(brightness_distribution.values))#wrong fit\n",
    "    elif distribution == \"t\":\n",
    "        pdf = stats.t.pdf(space,*stats.t.fit(brightness_distribution.values))\n",
    "    elif distribution =='laplace':\n",
    "        pdf = stats.laplace.pdf(space,*stats.laplace.fit(brightness_distribution.values))\n",
    "    elif distribution == 'beta':\n",
    "        pdf = stats.beta.pdf(space,*stats.beta.fit(brightness_distribution.values))\n",
    "        \n",
    "    predicted = pdf * brightness_distribution.values.sum()\n",
    "    return mean_squared_error(brightness_distribution.values,predicted), predicted"
   ]
  },
  {
   "cell_type": "code",
   "execution_count": 15,
   "metadata": {},
   "outputs": [
    {
     "data": {
      "text/plain": [
       "48407716530.02425"
      ]
     },
     "execution_count": 15,
     "metadata": {},
     "output_type": "execute_result"
    }
   ],
   "source": [
    "calculate_mse('norm')[0]"
   ]
  },
  {
   "cell_type": "code",
   "execution_count": 16,
   "metadata": {},
   "outputs": [
    {
     "data": {
      "text/plain": [
       "48400143509.868004"
      ]
     },
     "execution_count": 16,
     "metadata": {},
     "output_type": "execute_result"
    }
   ],
   "source": [
    "calculate_mse('t')[0]"
   ]
  },
  {
   "cell_type": "code",
   "execution_count": 17,
   "metadata": {},
   "outputs": [
    {
     "data": {
      "text/plain": [
       "48420104450.147156"
      ]
     },
     "execution_count": 17,
     "metadata": {},
     "output_type": "execute_result"
    }
   ],
   "source": [
    "calculate_mse('laplace')[0]"
   ]
  },
  {
   "cell_type": "code",
   "execution_count": 18,
   "metadata": {},
   "outputs": [
    {
     "name": "stderr",
     "output_type": "stream",
     "text": [
      "c:\\users\\alexa\\appdata\\local\\programs\\python\\python37\\lib\\site-packages\\scipy\\stats\\_continuous_distns.py:515: RuntimeWarning: invalid value encountered in sqrt\n",
      "  sk = 2*(b-a)*np.sqrt(a + b + 1) / (a + b + 2) / np.sqrt(a*b)\n",
      "c:\\users\\alexa\\appdata\\local\\programs\\python\\python37\\lib\\site-packages\\scipy\\optimize\\minpack.py:162: RuntimeWarning: The iteration is not making good progress, as measured by the \n",
      "  improvement from the last ten iterations.\n",
      "  warnings.warn(msg, RuntimeWarning)\n"
     ]
    },
    {
     "data": {
      "text/plain": [
       "48427296272.17969"
      ]
     },
     "execution_count": 18,
     "metadata": {},
     "output_type": "execute_result"
    }
   ],
   "source": [
    "calculate_mse('beta')[0]"
   ]
  },
  {
   "cell_type": "markdown",
   "metadata": {},
   "source": [
    "*\tПобудувати розподіл отриманих апроксимацій за видом апроксимуючого розподілу;"
   ]
  },
  {
   "cell_type": "code",
   "execution_count": null,
   "metadata": {},
   "outputs": [],
   "source": []
  },
  {
   "cell_type": "markdown",
   "metadata": {},
   "source": [
    "4)\tПобудувати багатовимірні гаусові моделі:\n",
    "*\tСформувати вектори параметрів розподілу значень яскравості пікселів тестових зображень;\n",
    "    *   i)\tМатематичне очікування;\n",
    "    *   ii)\tМатематичне очікування та дисперсія;\n",
    "    *   iii)\tМатематичне очікування, дисперсія та коефіцієнт асиметрії;\n",
    "    *    iv)\tМатематичне очікування, дисперсія, коефіцієнти асиметрії та ексцесу;\n"
   ]
  },
  {
   "cell_type": "code",
   "execution_count": null,
   "metadata": {},
   "outputs": [],
   "source": []
  },
  {
   "cell_type": "markdown",
   "metadata": {},
   "source": [
    "*\tВизначити параметри багатовимірних гаусових моделей для кожної групи векторів, відобразити їх графічно та у вигляді таблиць."
   ]
  },
  {
   "cell_type": "code",
   "execution_count": null,
   "metadata": {},
   "outputs": [],
   "source": []
  },
  {
   "cell_type": "markdown",
   "metadata": {},
   "source": [
    "*   Підготувати звіт за отриманими результатами лабораторної роботи."
   ]
  }
 ],
 "metadata": {
  "kernelspec": {
   "display_name": "Python 3",
   "language": "python",
   "name": "python3"
  },
  "language_info": {
   "codemirror_mode": {
    "name": "ipython",
    "version": 3
   },
   "file_extension": ".py",
   "mimetype": "text/x-python",
   "name": "python",
   "nbconvert_exporter": "python",
   "pygments_lexer": "ipython3",
   "version": "3.7.3"
  }
 },
 "nbformat": 4,
 "nbformat_minor": 4
}
