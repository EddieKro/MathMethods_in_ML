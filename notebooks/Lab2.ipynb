{
 "cells": [
  {
   "cell_type": "markdown",
   "metadata": {},
   "source": [
    "\n",
    "Тестовий пакет – MIRFlickr-20k (https://press.liacs.nl/mirflickr/#sec_download)\n",
    "Вибірка зображень – 250 зображень;\n",
    "Формування вибірки зображень – псевдовипадкове, з використанням генератора Мерсена (стартове значення співпадає з номером студента в загальному списку групи) за модулем кількості зображень в тестовому пакеті.\n",
    "\n",
    "#### Лабораторна робота №2\n",
    "\tСформувати тестову вибірку зображень з вихідного пакету;"
   ]
  },
  {
   "cell_type": "code",
   "execution_count": 1,
   "metadata": {},
   "outputs": [],
   "source": [
    "import numpy as np\n",
    "\n",
    "import os\n",
    "import cv2\n",
    "import seaborn as sns\n",
    "from scipy import stats\n",
    "import matplotlib.pyplot as plt\n",
    "\n",
    "\n",
    "os.chdir('C:\\\\DS\\\\datasets\\\\mirflickr')# all datasets will be stored outside of a project\n",
    "total_students = 10\n",
    "student_num = 3%total_students"
   ]
  },
  {
   "cell_type": "markdown",
   "metadata": {},
   "source": [
    "To select a sample we'll use numpy.random module, an implementation of Mersenne Twister pseudorandom generator based on [MT19937 algorithm](https://en.wikipedia.org/wiki/Mersenne_Twister). It's worth mentioning that python's random module is identical"
   ]
  },
  {
   "cell_type": "code",
   "execution_count": 2,
   "metadata": {},
   "outputs": [
    {
     "name": "stdout",
     "output_type": "stream",
     "text": [
      "selected sample 250 of images from 25000 images in total\n"
     ]
    }
   ],
   "source": [
    "contents = os.listdir()\n",
    "images_names = np.array([c for c in contents if c.endswith('.jpg')])\n",
    "\n",
    "# np.seed(student_num)\n",
    "generator = np.random.RandomState(seed=student_num)# works the same as np.seed()\n",
    "\n",
    "total_images = images_names.shape[0]\n",
    "sample_size = 250\n",
    "\n",
    "sample_images_names = generator.choice(images_names,sample_size) \n",
    "\n",
    "print(f'selected sample {sample_size} of images from {total_images} images in total')"
   ]
  },
  {
   "cell_type": "markdown",
   "metadata": {},
   "source": [
    "To read the images we'll use opencv, which by default reads image in B,G,R order. \n",
    "* cv.imread(file) reads image as an ndarray of shape (height,width,3)\n",
    "* cv.split() split ndarray into three 2D arrays (B,G,R) of shape (height,width), from which we select array G"
   ]
  },
  {
   "cell_type": "code",
   "execution_count": 3,
   "metadata": {},
   "outputs": [],
   "source": [
    "#sample_images = np.array([cv2.imread(img) for img in sample_images_names])\n",
    "sample_images_green = np.array([cv2.split(cv2.imread(img))[1] for img in sample_images_names])\n",
    "green_pixels_list = np.concatenate([img.flatten() for img in sample_images_green])"
   ]
  },
  {
   "cell_type": "markdown",
   "metadata": {},
   "source": [
    "* 1) \tПровести декомпозицію каналу зеленого кольору тестових зображень з використанням методу головних компонент (PCA):"
   ]
  },
  {
   "cell_type": "code",
   "execution_count": 4,
   "metadata": {},
   "outputs": [
    {
     "data": {
      "text/plain": [
       "PCA(copy=True, iterated_power='auto',\n",
       "    n_components=array([array([[ 47,  45,  44, ..., 116, 115, 114],\n",
       "       [ 46,  44,  43, ..., 115, 114, 114],\n",
       "       [ 44,  42,  41, ..., 116, 116, 116],\n",
       "       ...,\n",
       "       [ 71,  72,  74, ..., 126, 127, 130],\n",
       "       [ 66,  67,  68, ..., 130, 132, 132],\n",
       "       [ 64,  64,  64, ..., 130, 132, 132]], dtype=uint8),\n",
       "       array([[ 3,  3,  4, ..., 27, 26, 25],\n",
       "       [ 3,  3,  3, ..., 27, 26, 26],\n",
       "       [ 3,  3,  3, ..., 27, 26, 24],\n",
       "       ...,\n",
       "       [74, 73, 73, ...,  9,  6,  5],\n",
       "       [72, 72, 72, .....\n",
       "       [119, 134, 145, ..., 145, 140, 131],\n",
       "       [141, 124, 131, ..., 152, 139, 124],\n",
       "       ...,\n",
       "       [ 39,  32,  38, ...,  67,  64,  60],\n",
       "       [ 59,  62,  58, ...,  60,  60,  58],\n",
       "       [ 54,  46,  47, ...,  53,  51,  51]], dtype=uint8),\n",
       "       array([[ 1,  2,  3, ...,  2,  2,  3],\n",
       "       [ 3,  2,  4, ...,  2,  2,  2],\n",
       "       [ 0,  2,  5, ...,  2,  2,  2],\n",
       "       ...,\n",
       "       [ 7,  6, 15, ...,  2,  2,  1],\n",
       "       [ 5,  5,  9, ...,  2,  1,  1],\n",
       "       [ 3, 10,  6, ...,  2,  2,  2]], dtype=uint8)], dtype=object),\n",
       "    random_state=None, svd_solver='auto', tol=0.0, whiten=False)"
      ]
     },
     "execution_count": 4,
     "metadata": {},
     "output_type": "execute_result"
    }
   ],
   "source": [
    "from sklearn.decomposition import PCA\n",
    "PCA(sample_images_green)"
   ]
  },
  {
   "cell_type": "markdown",
   "metadata": {},
   "source": [
    "2) \tДля каналу зеленого кольору тестових зображень обчислити наступні характеристики розподілу значень яскравості пікселів:\n",
    "*\tВпорядкувати отримані компоненти вихідного зображення в порядку зменшення значень сингулярних чисел (від найбільшого $s_{max}$ до найменшого $s_{min}$ значення);\n"
   ]
  },
  {
   "cell_type": "code",
   "execution_count": null,
   "metadata": {},
   "outputs": [],
   "source": []
  },
  {
   "cell_type": "markdown",
   "metadata": {},
   "source": [
    "*\tПровести реконструкцію зображення при використанні лише частки (α%) компонентів розкладу, що характеризуються відмінними від нуля сингулярними числами ($s_i≠0$). Розглянути випадок, коли α змінюється від $α_{min}=10\\%$ до $α_{max}=100\\%$ з кроком $∆_α=10\\%$"
   ]
  },
  {
   "cell_type": "code",
   "execution_count": null,
   "metadata": {},
   "outputs": [],
   "source": []
  },
  {
   "cell_type": "markdown",
   "metadata": {},
   "source": [
    "*\tПорівняти вихідне та реконструйоване зображення за показником середньоквадратичного відхилення (MSE). "
   ]
  },
  {
   "cell_type": "code",
   "execution_count": null,
   "metadata": {},
   "outputs": [],
   "source": []
  },
  {
   "cell_type": "markdown",
   "metadata": {},
   "source": [
    "*\tПобудувати графіки залежності ($\\overline {MSE}$(α)), де $\\overline {MSE}$ - значення середньо-квадратичного відхилення між вихідним та реконструйованим зображеннями, усереднені по тестовому пакету;"
   ]
  },
  {
   "cell_type": "code",
   "execution_count": null,
   "metadata": {},
   "outputs": [],
   "source": []
  },
  {
   "cell_type": "markdown",
   "metadata": {},
   "source": [
    "* 4) \tПровести моделювання каналу зеленого кольору тестових зображень з використанням марківських ланцюгів першого порядку $M_1$:\n",
    "    *\tОтримати стохастичну матрицю для каналу зеленого кольору при обробці пікселів (згідно номеру студента в списку групи, за модулем кількості варіантів):\n",
    "        *\tПо горизонталі, зліва направо – M_1^→ (I_(x,y),I_(x+1,y) );\n",
    "        *\tПо горизонталі, справа наліво – M_1^← (I_(x,y),I_(x-1,y) );\n",
    "        *\tПо вертикалі, зверху вниз – M_1^↓ (I_(x,y),I_(x,y+1) );\n",
    "        *\tПо вертикалі, знизу вгору – M_1^↑ (I_(x,y),I_(x,y-1) );\n",
    "        *\tПо головній діагоналі – M_1^↘ (I_(x,y),I_(x+1,y+1) );\n",
    "        *\tПо головній діагоналі – M_1^↖ (I_(x,y),I_(x-1,y-1) );\n",
    "        *\tПо побічній діагоналі – M_1^↙ (I_(x,y),I_(x-1,y+1) );\n",
    "        *\tПо побічній діагоналі – M_1^↗ (I_(x,y),I_(x+1,y-1) );\n",
    "*\tВ протоколі роботи графічно показати вид марківського ланцюга для діапазону яскравості пікселів I_(x,y)∈[i;i×10], де i- номеру студента в списку групи;\n",
    "*\tДля отриманих марківських ланцюгів перевірити виконання властивості регулярності та рекурентності після проходження 5 ітерацій роботи.\n",
    "\n"
   ]
  },
  {
   "cell_type": "code",
   "execution_count": null,
   "metadata": {},
   "outputs": [],
   "source": []
  }
 ],
 "metadata": {
  "kernelspec": {
   "display_name": "Python 3",
   "language": "python",
   "name": "python3"
  },
  "language_info": {
   "codemirror_mode": {
    "name": "ipython",
    "version": 3
   },
   "file_extension": ".py",
   "mimetype": "text/x-python",
   "name": "python",
   "nbconvert_exporter": "python",
   "pygments_lexer": "ipython3",
   "version": "3.7.3"
  }
 },
 "nbformat": 4,
 "nbformat_minor": 4
}
